{
  "nbformat": 4,
  "nbformat_minor": 0,
  "metadata": {
    "colab": {
      "provenance": [],
      "gpuType": "T4"
    },
    "kernelspec": {
      "name": "python3",
      "display_name": "Python 3"
    },
    "language_info": {
      "name": "python"
    },
    "accelerator": "GPU"
  },
  "cells": [
    {
      "cell_type": "code",
      "execution_count": 1,
      "metadata": {
        "id": "v5j0N1TyboM6"
      },
      "outputs": [],
      "source": [
        "import sys, os, platform, random, math, time, json, shutil, zipfile, glob\n",
        "from pathlib import Path\n",
        "import numpy as np\n",
        "import torch\n",
        "from torch import nn\n",
        "from torch.utils.data import Dataset, DataLoader\n",
        "import torch.nn.functional as F\n",
        "from torchvision import transforms\n",
        "from torchvision.transforms import functional as TF\n",
        "from PIL import Image\n",
        "import matplotlib.pyplot as plt\n",
        "\n"
      ]
    },
    {
      "cell_type": "code",
      "source": [
        "zip_path = \"/content/dataset.zip\"\n",
        "root = Path(\"/content\")\n",
        "assert os.path.exists(zip_path), \"dataset.zip not found in /content. Use one of the options above to place it here.\"\n",
        "\n",
        "with zipfile.ZipFile(zip_path, 'r') as zf:\n",
        "    zf.extractall(root)\n",
        "\n",
        "base_dir = root / \"dataset\"\n",
        "train_inputs = base_dir / \"training\" / \"inputs\"\n",
        "train_outputs = base_dir / \"training\" / \"outputs\"\n",
        "train_json = base_dir / \"training\" / \"data.json\"\n",
        "\n",
        "val_inputs = base_dir / \"validation\" / \"inputs\"\n",
        "val_outputs = base_dir / \"validation\" / \"outputs\"\n",
        "val_json = base_dir / \"validation\" / \"data.json\"\n",
        "print(\"Train inputs:\", len(list(train_inputs.glob(\"*.png\"))),\n",
        "      \"| Train outputs:\", len(list(train_outputs.glob(\"*.png\"))))\n",
        "print(\"Val inputs:\", len(list(val_inputs.glob(\"*.png\"))),\n",
        "      \"| Val outputs:\", len(list(val_outputs.glob(\"*.png\"))))\n",
        "with open(train_json, 'r') as f:\n",
        "    train_map = json.load(f)\n",
        "with open(val_json, 'r') as f:\n",
        "    val_map = json.load(f)\n",
        "\n",
        "print(\"Training pairs:\", len(train_map), \"| Validation pairs:\", len(val_map))\n",
        "\n",
        "print(train_map[0])\n",
        "display(Image.open(train_inputs / train_map[0][\"input_polygon\"]).convert(\"RGBA\").resize((192,192)))\n",
        "display(Image.open(train_outputs / train_map[0][\"output_image\"]).convert(\"RGBA\").resize((192,192)))"
      ],
      "metadata": {
        "colab": {
          "base_uri": "https://localhost:8080/",
          "height": 470
        },
        "id": "E8H02hCNgD-5",
        "outputId": "e4a783a4-6ad6-4426-ea4c-986d3fcdad41"
      },
      "execution_count": 2,
      "outputs": [
        {
          "output_type": "stream",
          "name": "stdout",
          "text": [
            "Train inputs: 8 | Train outputs: 56\n",
            "Val inputs: 4 | Val outputs: 5\n",
            "Training pairs: 56 | Validation pairs: 5\n",
            "{'input_polygon': 'octagon.png', 'colour': 'cyan', 'output_image': 'cyan_octagon.png'}\n"
          ]
        },
        {
          "output_type": "display_data",
          "data": {
            "text/plain": [
              "<PIL.Image.Image image mode=RGBA size=192x192>"
            ],
            "image/png": "[encoded data removed]"
          },
          "metadata": {}
        },
        {
          "output_type": "display_data",
          "data": {
            "text/plain": [
              "<PIL.Image.Image image mode=RGBA size=192x192>"
            ],
            "image/png": "[encoded data removed]"
          },
          "metadata": {}
        }
      ]
    },
    {
      "cell_type": "code",
      "source": [
        "from collections import defaultdict\n",
        "import numpy as np\n",
        "def most_frequent_color(img_rgba):\n",
        "    arr = np.array(img_rgba)\n",
        "    rgb = arr[:,:,:3]\n",
        "    mask = ~(rgb == 255).all(-1)\n",
        "    if mask.sum() == 0:\n",
        "        return (255, 255, 255)\n",
        "    colors, counts = np.unique(rgb[mask].reshape(-1, 3), axis=0, return_counts=True)\n",
        "    return tuple(colors[counts.argmax()].tolist())\n",
        "color_to_rgb = {}\n",
        "seen = set()\n",
        "for rec in train_map:\n",
        "    cname = rec[\"colour\"]\n",
        "    out_img = Image.open(train_outputs / rec[\"output_image\"]).convert(\"RGBA\")\n",
        "    rgb = most_frequent_color(out_img)\n",
        "    if cname not in color_to_rgb:\n",
        "        color_to_rgb[cname] = rgb\n",
        "print(\"Color mapping inferred from training outputs:\")\n",
        "for k,v in color_to_rgb.items():\n",
        "    print(f\"{k:>8} -> {v}\")\n"
      ],
      "metadata": {
        "colab": {
          "base_uri": "https://localhost:8080/"
        },
        "id": "8-MOrWFVgIbQ",
        "outputId": "6d2af928-b1bf-4738-8181-87d1cf613e3e"
      },
      "execution_count": 3,
      "outputs": [
        {
          "output_type": "stream",
          "name": "stdout",
          "text": [
            "Color mapping inferred from training outputs:\n",
            "    cyan -> (0, 255, 255)\n",
            "  purple -> (128, 0, 128)\n",
            " magenta -> (255, 0, 255)\n",
            "   green -> (0, 255, 0)\n",
            "     red -> (255, 0, 0)\n",
            "    blue -> (0, 0, 255)\n",
            "  yellow -> (255, 255, 0)\n",
            "  orange -> (255, 165, 0)\n"
          ]
        }
      ]
    },
    {
      "cell_type": "code",
      "source": [
        "class PolygonColorDataset(Dataset):\n",
        "    def __init__(self, base_dir, records, split=\"train\", color_to_rgb=None, augment=True, out_size=128, add_synthetic=False, synthetic_factor=2):\n",
        "        self.base_dir = Path(base_dir)\n",
        "        self.split = split\n",
        "        self.augment = augment and (split == \"train\")\n",
        "        self.out_size = out_size\n",
        "        self.color_to_rgb = color_to_rgb or {}\n",
        "        self.add_synthetic = add_synthetic and (split == \"train\")\n",
        "        self.synthetic_factor = synthetic_factor\n",
        "        self.inputs_dir = self.base_dir / split / \"inputs\"\n",
        "        self.outputs_dir = self.base_dir / split / \"outputs\"\n",
        "        self.records = list(records)\n",
        "        if self.add_synthetic and self.synthetic_factor > 1:\n",
        "            self.records = self.records * self.synthetic_factor\n",
        "        colors = sorted(self.color_to_rgb.keys())\n",
        "        self.color_to_idx = {c:i for i,c in enumerate(colors)}\n",
        "        self.idx_to_color = {i:c for c,i in self.color_to_idx.items()}\n",
        "        self.to_tensor = transforms.ToTensor()\n",
        "\n",
        "    def __len__(self):\n",
        "        return len(self.records)\n",
        "\n",
        "    def _paired_affine(self, img_in, img_out):\n",
        "\n",
        "        angle = random.uniform(-20, 20)\n",
        "        translate = (random.uniform(-5, 5), random.uniform(-5, 5))\n",
        "        scale = random.uniform(0.9, 1.1)\n",
        "        shear = random.uniform(-8, 8)\n",
        "        img_in = TF.affine(img_in, angle=angle, translate=translate, scale=scale, shear=shear, interpolation=transforms.InterpolationMode.BILINEAR, fill=(255,255,255))\n",
        "        img_out = TF.affine(img_out, angle=angle, translate=translate, scale=scale, shear=shear, interpolation=transforms.InterpolationMode.BILINEAR, fill=(255,255,255))\n",
        "        if random.random() < 0.5:\n",
        "            img_in = TF.hflip(img_in)\n",
        "            img_out = TF.hflip(img_out)\n",
        "        if random.random() < 0.2:\n",
        "            img_in = TF.vflip(img_in)\n",
        "            img_out = TF.vflip(img_out)\n",
        "        return img_in, img_out\n",
        "\n",
        "    def __getitem__(self, idx):\n",
        "        rec = self.records[idx]\n",
        "        cin = self.inputs_dir / rec[\"input_polygon\"]\n",
        "        cout = self.outputs_dir / rec[\"output_image\"]\n",
        "        color_name = rec[\"colour\"]\n",
        "\n",
        "\n",
        "        def to_rgb(im):\n",
        "            im = im.convert(\"RGBA\")\n",
        "            bg = Image.new(\"RGBA\", im.size, (255,255,255,255))\n",
        "            comp = Image.alpha_composite(bg, im)\n",
        "            return comp.convert(\"RGB\")\n",
        "\n",
        "        inp = to_rgb(Image.open(cin))\n",
        "        out = to_rgb(Image.open(cout))\n",
        "\n",
        "        inp = inp.resize((self.out_size, self.out_size), Image.BILINEAR)\n",
        "        out = out.resize((self.out_size, self.out_size), Image.BILINEAR)\n",
        "\n",
        "        if self.augment:\n",
        "            inp, out = self._paired_affine(inp, out)\n",
        "\n",
        "        inp_t = self.to_tensor(inp)\n",
        "        out_t = self.to_tensor(out)\n",
        "\n",
        "        color_idx = self.color_to_idx[color_name]\n",
        "        color_rgb = self.color_to_rgb[color_name]\n",
        "        color_rgb_t = torch.tensor([c/255.0 for c in color_rgb], dtype=torch.float32)  # [3]\n",
        "\n",
        "        sample = {\n",
        "            \"inp\": inp_t,\n",
        "            \"target\": out_t,\n",
        "            \"color_idx\": torch.tensor(color_idx, dtype=torch.long),\n",
        "            \"color_rgb\": color_rgb_t,\n",
        "            \"color_name\": color_name\n",
        "        }\n",
        "        return sample\n",
        "\n",
        "\n",
        "BATCH_SIZE = 16\n",
        "OUT_SIZE = 128\n",
        "\n",
        "train_ds = PolygonColorDataset(base_dir, train_map, split=\"training\", color_to_rgb=color_to_rgb, augment=True, out_size=OUT_SIZE, add_synthetic=True, synthetic_factor=4)\n",
        "val_ds   = PolygonColorDataset(base_dir, val_map,   split=\"validation\", color_to_rgb=color_to_rgb, augment=False, out_size=OUT_SIZE)\n",
        "\n",
        "train_loader = DataLoader(train_ds, batch_size=BATCH_SIZE, shuffle=True, num_workers=2, pin_memory=True)\n",
        "val_loader   = DataLoader(val_ds,   batch_size=BATCH_SIZE, shuffle=False, num_workers=2, pin_memory=True)\n",
        "\n",
        "len(train_ds), len(val_ds), len(train_loader), len(val_loader)"
      ],
      "metadata": {
        "colab": {
          "base_uri": "https://localhost:8080/"
        },
        "id": "XFvybOaXgLov",
        "outputId": "05139db9-fce4-499d-e237-279e08a39c8c"
      },
      "execution_count": 4,
      "outputs": [
        {
          "output_type": "execute_result",
          "data": {
            "text/plain": [
              "(56, 5, 4, 1)"
            ]
          },
          "metadata": {},
          "execution_count": 4
        }
      ]
    },
    {
      "cell_type": "code",
      "source": [
        "class FiLM(nn.Module):\n",
        "\n",
        "    def __init__(self, cond_dim, num_channels):\n",
        "        super().__init__()\n",
        "        self.fc = nn.Sequential(\n",
        "            nn.Linear(cond_dim, num_channels*2),\n",
        "            nn.SiLU(),\n",
        "            nn.Linear(num_channels*2, num_channels*2)\n",
        "        )\n",
        "    def forward(self, x, cond_vec):\n",
        "\n",
        "        h = self.fc(cond_vec)\n",
        "        gamma, beta = torch.chunk(h, 2, dim=1)\n",
        "        gamma = gamma.view(x.size(0), x.size(1), 1, 1)\n",
        "        beta  = beta.view(x.size(0), x.size(1), 1, 1)\n",
        "        return gamma, beta\n",
        "\n",
        "class ConvBlock(nn.Module):\n",
        "    def __init__(self, in_ch, out_ch, cond_dim=None, use_film=True):\n",
        "        super().__init__()\n",
        "        self.use_film = use_film and (cond_dim is not None)\n",
        "        self.gn1 = nn.GroupNorm(num_groups=8, num_channels=out_ch)\n",
        "        self.conv1 = nn.Conv2d(in_ch, out_ch, 3, padding=1)\n",
        "        self.gn2 = nn.GroupNorm(num_groups=8, num_channels=out_ch)\n",
        "        self.conv2 = nn.Conv2d(out_ch, out_ch, 3, padding=1)\n",
        "        self.act = nn.SiLU()\n",
        "        if self.use_film:\n",
        "            self.film1 = FiLM(cond_dim, out_ch)\n",
        "            self.film2 = FiLM(cond_dim, out_ch)\n",
        "\n",
        "    def forward(self, x, cond_vec=None):\n",
        "        x = self.conv1(x)\n",
        "        x = self.gn1(x)\n",
        "        if self.use_film and cond_vec is not None:\n",
        "            g,b = self.film1(x, cond_vec); x = g * x + b\n",
        "        x = self.act(x)\n",
        "        x = self.conv2(x)\n",
        "        x = self.gn2(x)\n",
        "        if self.use_film and cond_vec is not None:\n",
        "            g,b = self.film2(x, cond_vec); x = g * x + b\n",
        "        x = self.act(x)\n",
        "        return x\n",
        "\n",
        "class UNetCond(nn.Module):\n",
        "    def __init__(self, in_ch=3, out_ch=3, base_ch=32, cond_method=\"film\", num_colors=8, cond_dim=32):\n",
        "        super().__init__()\n",
        "        self.cond_method = cond_method\n",
        "        self.num_colors = num_colors\n",
        "        self.color_emb = nn.Embedding(num_colors, cond_dim)\n",
        "\n",
        "\n",
        "        extra_in = 0\n",
        "        if cond_method == \"concat_rgb\":\n",
        "            extra_in = 3\n",
        "        elif cond_method == \"concat_idx\":\n",
        "            extra_in = cond_dim\n",
        "\n",
        "\n",
        "        self.down1 = ConvBlock(in_ch + extra_in, base_ch, cond_dim=cond_dim, use_film=(cond_method==\"film\"))\n",
        "        self.pool1 = nn.MaxPool2d(2)\n",
        "        self.down2 = ConvBlock(base_ch, base_ch*2, cond_dim=cond_dim, use_film=(cond_method==\"film\"))\n",
        "        self.pool2 = nn.MaxPool2d(2)\n",
        "        self.down3 = ConvBlock(base_ch*2, base_ch*4, cond_dim=cond_dim, use_film=(cond_method==\"film\"))\n",
        "        self.pool3 = nn.MaxPool2d(2)\n",
        "\n",
        "        self.bottleneck = ConvBlock(base_ch*4, base_ch*8, cond_dim=cond_dim, use_film=(cond_method==\"film\"))\n",
        "\n",
        "\n",
        "        self.up3 = nn.ConvTranspose2d(base_ch*8, base_ch*4, 2, stride=2)\n",
        "        self.up_block3 = ConvBlock(base_ch*8, base_ch*4, cond_dim=cond_dim, use_film=(cond_method==\"film\"))\n",
        "\n",
        "        self.up2 = nn.ConvTranspose2d(base_ch*4, base_ch*2, 2, stride=2)\n",
        "        self.up_block2 = ConvBlock(base_ch*4, base_ch*2, cond_dim=cond_dim, use_film=(cond_method==\"film\"))\n",
        "\n",
        "        self.up1 = nn.ConvTranspose2d(base_ch*2, base_ch, 2, stride=2)\n",
        "        self.up_block1 = ConvBlock(base_ch*2, base_ch, cond_dim=cond_dim, use_film=(cond_method==\"film\"))\n",
        "\n",
        "        self.final = nn.Conv2d(base_ch, out_ch, 1)\n",
        "\n",
        "    def forward(self, img, color_idx, color_rgb):\n",
        "\n",
        "        B, C, H, W = img.shape\n",
        "        cond_vec = self.color_emb(color_idx)\n",
        "\n",
        "        x = img\n",
        "        if self.cond_method == \"concat_rgb\":\n",
        "            rgb_map = color_rgb.view(B,3,1,1).expand(B,3,H,W)\n",
        "            x = torch.cat([x, rgb_map], dim=1)\n",
        "        elif self.cond_method == \"concat_idx\":\n",
        "            emb = cond_vec.view(B,-1,1,1).expand(B,cond_vec.size(1),H,W)\n",
        "            x = torch.cat([x, emb], dim=1)\n",
        "\n",
        "\n",
        "        d1 = self.down1(x, cond_vec if self.cond_method==\"film\" else None)\n",
        "        p1 = self.pool1(d1)\n",
        "        d2 = self.down2(p1, cond_vec if self.cond_method==\"film\" else None)\n",
        "        p2 = self.pool2(d2)\n",
        "        d3 = self.down3(p2, cond_vec if self.cond_method==\"film\" else None)\n",
        "        p3 = self.pool3(d3)\n",
        "\n",
        "        b = self.bottleneck(p3, cond_vec if self.cond_method==\"film\" else None)\n",
        "\n",
        "\n",
        "        u3 = self.up3(b)\n",
        "        u3 = torch.cat([u3, d3], dim=1)\n",
        "        u3 = the3 = self.up_block3(u3, cond_vec if self.cond_method==\"film\" else None)\n",
        "\n",
        "        u2 = self.up2(u3)\n",
        "        u2 = torch.cat([u2, d2], dim=1)\n",
        "        u2 = self.up_block2(u2, cond_vec if self.cond_method==\"film\" else None)\n",
        "\n",
        "        u1 = self.up1(u2)\n",
        "        u1 = torch.cat([u1, d1], dim=1)\n",
        "        u1 = self.up_block1(u1, cond_vec if self.cond_method==\"film\" else None)\n",
        "\n",
        "        out = self.final(u1)\n",
        "        out = torch.sigmoid(out)\n",
        "        return out\n"
      ],
      "metadata": {
        "id": "36xLMG-sgO-Q"
      },
      "execution_count": 5,
      "outputs": []
    },
    {
      "cell_type": "code",
      "source": [
        "def psnr(mse, max_val=1.0):\n",
        "\n",
        "    return 20 * torch.log10(torch.tensor(max_val)) - 10 * torch.log10(mse + 1e-8)\n",
        "\n",
        "def compute_metrics(pred, target):\n",
        "    with torch.no_grad():\n",
        "        mse = F.mse_loss(pred, target)\n",
        "        l1 = F.l1_loss(pred, target)\n",
        "        return {\n",
        "            \"mse\": mse.item(),\n",
        "            \"l1\": l1.item(),\n",
        "            \"psnr\": psnr(mse).item(),\n",
        "        }\n",
        "\n",
        "def show_batch(batch, preds=None, max_n=6, figsize=(12, 6)):\n",
        "    inp = batch[\"inp\"].cpu()\n",
        "    tgt = batch[\"target\"].cpu()\n",
        "    color_names = batch[\"color_name\"]\n",
        "    n = min(inp.size(0), max_n)\n",
        "    rows = 1 if preds is None else 3\n",
        "\n",
        "    fig, axs = plt.subplots(rows, n, figsize=figsize)\n",
        "    if rows == 1:\n",
        "        axs = np.expand_dims(axs, axis=0)\n",
        "\n",
        "    for i in range(n):\n",
        "        axs[0, i].imshow(np.transpose(inp[i].numpy(), (1, 2, 0)))\n",
        "        axs[0, i].axis('off')\n",
        "        axs[0, i].set_title(f\"Input\\n({color_names[i]})\")\n",
        "\n",
        "        if preds is not None:\n",
        "            axs[1, i].imshow(np.transpose(preds[i].detach().cpu().numpy(), (1, 2, 0)))\n",
        "            axs[1, i].axis('off')\n",
        "            axs[1, i].set_title(\"Prediction\")\n",
        "\n",
        "            axs[2, i].imshow(np.transpose(tgt[i].numpy(), (1, 2, 0)))\n",
        "            axs[2, i].axis('off')\n",
        "            axs[2, i].set_title(\"Ground Truth\")\n",
        "\n",
        "    plt.tight_layout()\n",
        "    plt.show()\n"
      ],
      "metadata": {
        "id": "0yXzoaEcgT3_"
      },
      "execution_count": 7,
      "outputs": []
    },
    {
      "cell_type": "code",
      "source": [
        "import torch\n",
        "import wandb\n",
        "import time\n",
        "\n",
        "EPOCHS = 150  #@param {type:\"integer\"}\n",
        "LR = 1e-3     #@param {type:\"number\"}\n",
        "BASE_CH = 32  #@param {type:\"integer\"}\n",
        "COND_METHOD = \"film\"  #@param [\"film\", \"concat_rgb\", \"concat_idx\"]\n",
        "WANDB_PROJECT = \"ayna-conditional-unet\"  #@param {type:\"string\"}\n",
        "USE_WANDB = True  #@param {type:\"boolean\"}\n",
        "\n",
        "\n",
        "device = torch.device(\"cuda\" if torch.cuda.is_available() else \"cpu\")\n",
        "\n",
        "\n",
        "try:\n",
        "    import wandb\n",
        "    WANDB_AVAILABLE = True\n",
        "except ImportError:\n",
        "    WANDB_AVAILABLE = False\n",
        "\n",
        "\n",
        "num_colors = len(train_ds.color_to_idx)\n",
        "model = UNetCond(in_ch=3, out_ch=3, base_ch=BASE_CH, cond_method=COND_METHOD, num_colors=num_colors, cond_dim=32).to(device)\n",
        "opt = torch.optim.AdamW(model.parameters(), lr=LR, weight_decay=1e-4)\n",
        "\n",
        "scaler = torch.cuda.amp.GradScaler(enabled=(device.type == \"cuda\"))\n",
        "\n",
        "if USE_WANDB and WANDB_AVAILABLE:\n",
        "\n",
        "    wandb.init(project=WANDB_PROJECT, config={\n",
        "        \"epochs\": EPOCHS,\n",
        "        \"lr\": LR,\n",
        "        \"batch_size\": BATCH_SIZE,\n",
        "        \"base_ch\": BASE_CH,\n",
        "        \"cond_method\": COND_METHOD,\n",
        "        \"augment\": True,\n",
        "        \"out_size\": OUT_SIZE,\n",
        "    })\n",
        "    wandb.watch(model, log=\"gradients\", log_freq=50)\n",
        "else:\n",
        "    print(\"W&B disabled or not available.\")\n",
        "\n",
        "best_val = float('inf')\n",
        "save_path = f\"/content/cond_unet_{COND_METHOD}.pt\"\n",
        "\n",
        "for epoch in range(1, EPOCHS+1):\n",
        "    model.train()\n",
        "    t0 = time.time()\n",
        "    running = {\"loss\":0.0, \"mse\":0.0, \"l1\":0.0}\n",
        "    for batch in train_loader:\n",
        "        img = batch[\"inp\"].to(device)\n",
        "        tgt = batch[\"target\"].to(device)\n",
        "        color_idx = batch[\"color_idx\"].to(device)\n",
        "        color_rgb = batch[\"color_rgb\"].to(device)\n",
        "\n",
        "        opt.zero_grad(set_to_none=True)\n",
        "        with torch.cuda.amp.autocast(enabled=(device.type == \"cuda\")):\n",
        "            pred = model(img, color_idx, color_rgb)\n",
        "            loss = F.l1_loss(pred, tgt) * 0.7 + F.mse_loss(pred, tgt) * 0.3\n",
        "        scaler.scale(loss).backward()\n",
        "        scaler.step(opt)\n",
        "        scaler.update()\n",
        "\n",
        "        m = compute_metrics(pred.detach(), tgt)\n",
        "        running[\"loss\"] += loss.item()\n",
        "        running[\"mse\"]  += m[\"mse\"]\n",
        "        running[\"l1\"]   += m[\"l1\"]\n",
        "\n",
        "    n_batches = max(1, len(train_loader))\n",
        "    train_log = {k: v/n_batches for k,v in running.items()}\n",
        "\n",
        "    model.eval()\n",
        "    with torch.no_grad():\n",
        "        val_running = {\"loss\":0.0, \"mse\":0.0, \"l1\":0.0}\n",
        "        all_preds = []\n",
        "        for batch in val_loader:\n",
        "            img = batch[\"inp\"].to(device)\n",
        "            tgt = batch[\"target\"].to(device)\n",
        "            color_idx = batch[\"color_idx\"].to(device)\n",
        "            color_rgb = batch[\"color_rgb\"].to(device)\n",
        "            pred = model(img, color_idx, color_rgb)\n",
        "            loss = F.l1_loss(pred, tgt) * 0.7 + F.mse_loss(pred, tgt) * 0.3\n",
        "            m = compute_metrics(pred, tgt)\n",
        "            val_running[\"loss\"] += loss.item()\n",
        "            val_running[\"mse\"]  += m[\"mse\"]\n",
        "            val_running[\"l1\"]   += m[\"l1\"]\n",
        "            all_preds.append(pred.cpu())\n",
        "        n_val_batches = max(1, len(val_loader))\n",
        "        val_log = {f\"val_{k}\": v/n_val_batches for k,v in val_running.items()}\n",
        "\n",
        "\n",
        "    train_log[\"psnr\"] = psnr(torch.tensor(train_log[\"mse\"])).item()\n",
        "    val_log[\"val_psnr\"] = psnr(torch.tensor(val_log[\"val_mse\"])).item()\n",
        "    elapsed = time.time() - t0\n",
        "\n",
        "    log = {\"epoch\": epoch, \"time_s\": elapsed, **train_log, **val_log}\n",
        "    print(log)\n",
        "\n",
        "    if USE_WANDB and WANDB_AVAILABLE:\n",
        "        wandb.log(log)\n",
        "\n",
        "    if val_log[\"val_loss\"] < best_val:\n",
        "        best_val = val_log[\"val_loss\"]\n",
        "        torch.save({\"model\": model.state_dict(),\n",
        "                    \"color_to_idx\": train_ds.color_to_idx,\n",
        "                    \"idx_to_color\": train_ds.idx_to_color,\n",
        "                    \"color_to_rgb\": color_to_rgb,\n",
        "                    \"hparams\": {\"base_ch\": BASE_CH, \"cond_method\": COND_METHOD, \"out_size\": OUT_SIZE}}, save_path)\n",
        "\n",
        "batch = next(iter(val_loader))\n",
        "model.eval()\n",
        "with torch.no_grad():\n",
        "    preds = model(batch[\"inp\"].to(device), batch[\"color_idx\"].to(device), batch[\"color_rgb\"].to(device))\n",
        "show_batch(batch, preds, max_n=min(6, batch[\"inp\"].size(0)))\n",
        "print(\"Best checkpoint saved at:\", save_path)"
      ],
      "metadata": {
        "colab": {
          "base_uri": "https://localhost:8080/",
          "height": 1000
        },
        "id": "EBRPY3YvgW8C",
        "outputId": "62acc75d-ce5f-479f-d94b-522f88eb11a1"
      },
      "execution_count": 8,
      "outputs": [
        {
          "output_type": "stream",
          "name": "stderr",
          "text": [
            "/tmp/ipython-input-2489252571.py:27: FutureWarning: `torch.cuda.amp.GradScaler(args...)` is deprecated. Please use `torch.amp.GradScaler('cuda', args...)` instead.\n",
            "  scaler = torch.cuda.amp.GradScaler(enabled=(device.type == \"cuda\"))\n"
          ]
        },
        {
          "output_type": "display_data",
          "data": {
            "text/plain": [
              "<IPython.core.display.Javascript object>"
            ],
            "application/javascript": [
              "\n",
              "        window._wandbApiKey = new Promise((resolve, reject) => {\n",
              "            function loadScript(url) {\n",
              "            return new Promise(function(resolve, reject) {\n",
              "                let newScript = document.createElement(\"script\");\n",
              "                newScript.onerror = reject;\n",
              "                newScript.onload = resolve;\n",
              "                document.body.appendChild(newScript);\n",
              "                newScript.src = url;\n",
              "            });\n",
              "            }\n",
              "            loadScript(\"https://cdn.jsdelivr.net/npm/postmate/build/postmate.min.js\").then(() => {\n",
              "            const iframe = document.createElement('iframe')\n",
              "            iframe.style.cssText = \"width:0;height:0;border:none\"\n",
              "            document.body.appendChild(iframe)\n",
              "            const handshake = new Postmate({\n",
              "                container: iframe,\n",
              "                url: 'https://wandb.ai/authorize'\n",
              "            });\n",
              "            const timeout = setTimeout(() => reject(\"Couldn't auto authenticate\"), 5000)\n",
              "            handshake.then(function(child) {\n",
              "                child.on('authorize', data => {\n",
              "                    clearTimeout(timeout)\n",
              "                    resolve(data)\n",
              "                });\n",
              "            });\n",
              "            })\n",
              "        });\n",
              "    "
            ]
          },
          "metadata": {}
        },
        {
          "output_type": "stream",
          "name": "stderr",
          "text": [
            "\u001b[34m\u001b[1mwandb\u001b[0m: Logging into wandb.ai. (Learn how to deploy a W&B server locally: https://wandb.me/wandb-server)\n",
            "\u001b[34m\u001b[1mwandb\u001b[0m: You can find your API key in your browser here: https://wandb.ai/authorize?ref=models\n",
            "wandb: Paste an API key from your profile and hit enter:"
          ]
        },
        {
          "name": "stdout",
          "output_type": "stream",
          "text": [
            " ··········\n"
          ]
        },
        {
          "output_type": "stream",
          "name": "stderr",
          "text": [
            "\u001b[34m\u001b[1mwandb\u001b[0m: \u001b[33mWARNING\u001b[0m If you're specifying your api key in code, ensure this code is not shared publicly.\n",
            "\u001b[34m\u001b[1mwandb\u001b[0m: \u001b[33mWARNING\u001b[0m Consider setting the WANDB_API_KEY environment variable, or running `wandb login` from the command line.\n",
            "\u001b[34m\u001b[1mwandb\u001b[0m: No netrc file found, creating one.\n",
            "\u001b[34m\u001b[1mwandb\u001b[0m: Appending key for api.wandb.ai to your netrc file: /root/.netrc\n",
            "\u001b[34m\u001b[1mwandb\u001b[0m: Currently logged in as: \u001b[33msreejabommagani2005\u001b[0m (\u001b[33msreejabommagani2005-mahindra-university\u001b[0m) to \u001b[32mhttps://api.wandb.ai\u001b[0m. Use \u001b[1m`wandb login --relogin`\u001b[0m to force relogin\n"
          ]
        },
        {
          "output_type": "display_data",
          "data": {
            "text/plain": [
              "<IPython.core.display.HTML object>"
            ],
            "text/html": [
              "Tracking run with wandb version 0.21.0"
            ]
          },
          "metadata": {}
        },
        {
          "output_type": "display_data",
          "data": {
            "text/plain": [
              "<IPython.core.display.HTML object>"
            ],
            "text/html": [
              "Run data is saved locally in <code>/content/wandb/run-20250804_134709-d7ajmv5r</code>"
            ]
          },
          "metadata": {}
        },
        {
          "output_type": "display_data",
          "data": {
            "text/plain": [
              "<IPython.core.display.HTML object>"
            ],
            "text/html": [
              "Syncing run <strong><a href='https://wandb.ai/sreejabommagani2005-mahindra-university/ayna-conditional-unet/runs/d7ajmv5r' target=\"_blank\">eager-snowflake-11</a></strong> to <a href='https://wandb.ai/sreejabommagani2005-mahindra-university/ayna-conditional-unet' target=\"_blank\">Weights & Biases</a> (<a href='https://wandb.me/developer-guide' target=\"_blank\">docs</a>)<br>"
            ]
          },
          "metadata": {}
        },
        {
          "output_type": "display_data",
          "data": {
            "text/plain": [
              "<IPython.core.display.HTML object>"
            ],
            "text/html": [
              " View project at <a href='https://wandb.ai/sreejabommagani2005-mahindra-university/ayna-conditional-unet' target=\"_blank\">https://wandb.ai/sreejabommagani2005-mahindra-university/ayna-conditional-unet</a>"
            ]
          },
          "metadata": {}
        },
        {
          "output_type": "display_data",
          "data": {
            "text/plain": [
              "<IPython.core.display.HTML object>"
            ],
            "text/html": [
              " View run at <a href='https://wandb.ai/sreejabommagani2005-mahindra-university/ayna-conditional-unet/runs/d7ajmv5r' target=\"_blank\">https://wandb.ai/sreejabommagani2005-mahindra-university/ayna-conditional-unet/runs/d7ajmv5r</a>"
            ]
          },
          "metadata": {}
        },
        {
          "output_type": "stream",
          "name": "stderr",
          "text": [
            "/tmp/ipython-input-2489252571.py:58: FutureWarning: `torch.cuda.amp.autocast(args...)` is deprecated. Please use `torch.amp.autocast('cuda', args...)` instead.\n",
            "  with torch.cuda.amp.autocast(enabled=(device.type == \"cuda\")):\n"
          ]
        },
        {
          "output_type": "stream",
          "name": "stdout",
          "text": [
            "{'epoch': 1, 'time_s': 2.9920449256896973, 'loss': 0.4053225591778755, 'mse': 0.23544500395655632, 'l1': 0.47812723368406296, 'psnr': 6.281104564666748, 'val_loss': 0.39867398142814636, 'val_mse': 0.22535157203674316, 'val_l1': 0.47295501828193665, 'val_psnr': 6.471393585205078}\n",
            "{'epoch': 2, 'time_s': 0.4928286075592041, 'loss': 0.38468455523252487, 'mse': 0.21503007784485817, 'l1': 0.4573936313390732, 'psnr': 6.6750078201293945, 'val_loss': 0.3788484036922455, 'val_mse': 0.2073172628879547, 'val_l1': 0.45236173272132874, 'val_psnr': 6.833644866943359}\n",
            "{'epoch': 3, 'time_s': 0.5095663070678711, 'loss': 0.36303894966840744, 'mse': 0.1962045207619667, 'l1': 0.43453941494226456, 'psnr': 7.072909355163574, 'val_loss': 0.3573949933052063, 'val_mse': 0.18872793018817902, 'val_l1': 0.42968085408210754, 'val_psnr': 7.241637706756592}\n",
            "{'epoch': 4, 'time_s': 0.49253320693969727, 'loss': 0.34165123850107193, 'mse': 0.17851818725466728, 'l1': 0.4115654081106186, 'psnr': 7.483174800872803, 'val_loss': 0.3345263600349426, 'val_mse': 0.1704372614622116, 'val_l1': 0.4048502445220947, 'val_psnr': 7.684354305267334}\n",
            "{'epoch': 5, 'time_s': 0.4973945617675781, 'loss': 0.31916315853595734, 'mse': 0.16128592565655708, 'l1': 0.3868248239159584, 'psnr': 7.92403507232666, 'val_loss': 0.30752265453338623, 'val_mse': 0.15053850412368774, 'val_l1': 0.3748016059398651, 'val_psnr': 8.223523139953613}\n",
            "{'epoch': 6, 'time_s': 0.49527406692504883, 'loss': 0.28805018961429596, 'mse': 0.13971849530935287, 'l1': 0.3516209125518799, 'psnr': 8.547460556030273, 'val_loss': 0.27708014845848083, 'val_mse': 0.12996172904968262, 'val_l1': 0.34013089537620544, 'val_psnr': 8.861845016479492}\n",
            "{'epoch': 7, 'time_s': 0.5022194385528564, 'loss': 0.25925540179014206, 'mse': 0.12261494062840939, 'l1': 0.3178156018257141, 'psnr': 9.1145658493042, 'val_loss': 0.2472110241651535, 'val_mse': 0.112752266228199, 'val_l1': 0.3048362135887146, 'val_psnr': 9.47874641418457}\n",
            "{'epoch': 8, 'time_s': 0.49199676513671875, 'loss': 0.22406410425901413, 'mse': 0.10522131249308586, 'l1': 0.27499672397971153, 'psnr': 9.778962135314941, 'val_loss': 0.21238046884536743, 'val_mse': 0.09329945594072342, 'val_l1': 0.2634151875972748, 'val_psnr': 10.30120849609375}\n",
            "{'epoch': 9, 'time_s': 0.5152852535247803, 'loss': 0.194622952491045, 'mse': 0.09201151132583618, 'l1': 0.2385992892086506, 'psnr': 10.361577987670898, 'val_loss': 0.18243108689785004, 'val_mse': 0.08072368800640106, 'val_l1': 0.2260199636220932, 'val_psnr': 10.9299898147583}\n",
            "{'epoch': 10, 'time_s': 0.49642205238342285, 'loss': 0.16783860325813293, 'mse': 0.0844083409756422, 'l1': 0.20359442755579948, 'psnr': 10.736145973205566, 'val_loss': 0.15710338950157166, 'val_mse': 0.07356654852628708, 'val_l1': 0.19290490448474884, 'val_psnr': 11.333196640014648}\n",
            "{'epoch': 11, 'time_s': 0.5254883766174316, 'loss': 0.1444711945950985, 'mse': 0.07773113623261452, 'l1': 0.17307407408952713, 'psnr': 11.094049453735352, 'val_loss': 0.13306446373462677, 'val_mse': 0.0642017349600792, 'val_l1': 0.1625770628452301, 'val_psnr': 11.924531936645508}\n",
            "{'epoch': 12, 'time_s': 0.48909497261047363, 'loss': 0.12433091923594475, 'mse': 0.07314945757389069, 'l1': 0.14626582898199558, 'psnr': 11.357888221740723, 'val_loss': 0.11101661622524261, 'val_mse': 0.05556071177124977, 'val_l1': 0.13478343188762665, 'val_psnr': 12.55232048034668}\n"
          ]
        },
        {
          "output_type": "stream",
          "name": "stderr",
          "text": [
            "/tmp/ipython-input-2489252571.py:58: FutureWarning: `torch.cuda.amp.autocast(args...)` is deprecated. Please use `torch.amp.autocast('cuda', args...)` instead.\n",
            "  with torch.cuda.amp.autocast(enabled=(device.type == \"cuda\")):\n"
          ]
        },
        {
          "output_type": "stream",
          "name": "stdout",
          "text": [
            "{'epoch': 13, 'time_s': 1.0396616458892822, 'loss': 0.1089946050196886, 'mse': 0.0685384701937437, 'l1': 0.1263329479843378, 'psnr': 11.640654563903809, 'val_loss': 0.09012410044670105, 'val_mse': 0.0446380078792572, 'val_l1': 0.10961814224720001, 'val_psnr': 13.502950668334961}\n",
            "{'epoch': 14, 'time_s': 0.5097565650939941, 'loss': 0.10272464156150818, 'mse': 0.06776285264641047, 'l1': 0.11770826950669289, 'psnr': 11.690082550048828, 'val_loss': 0.07678645104169846, 'val_mse': 0.03859291970729828, 'val_l1': 0.09315511584281921, 'val_psnr': 14.13492202758789}\n",
            "{'epoch': 15, 'time_s': 0.5118060111999512, 'loss': 0.09385838732123375, 'mse': 0.06461395230144262, 'l1': 0.10639171674847603, 'psnr': 11.896736145019531, 'val_loss': 0.0755588561296463, 'val_mse': 0.044987648725509644, 'val_l1': 0.08866079896688461, 'val_psnr': 13.46906566619873}\n",
            "{'epoch': 16, 'time_s': 0.5215198993682861, 'loss': 0.08241427317261696, 'mse': 0.057123043574392796, 'l1': 0.09325337037444115, 'psnr': 12.431886672973633, 'val_loss': 0.06543808430433273, 'val_mse': 0.03617607057094574, 'val_l1': 0.0779789462685585, 'val_psnr': 14.41578483581543}\n",
            "{'epoch': 17, 'time_s': 0.5122570991516113, 'loss': 0.0746617279946804, 'mse': 0.04282902553677559, 'l1': 0.0883043147623539, 'psnr': 13.6826171875, 'val_loss': 0.057783789932727814, 'val_mse': 0.03132204711437225, 'val_l1': 0.06912454217672348, 'val_psnr': 15.041496276855469}\n",
            "{'epoch': 18, 'time_s': 0.5539133548736572, 'loss': 0.0717041864991188, 'mse': 0.04951930604875088, 'l1': 0.08121199160814285, 'psnr': 13.052253723144531, 'val_loss': 0.053373776376247406, 'val_mse': 0.032875917851924896, 'val_l1': 0.06215856969356537, 'val_psnr': 14.831219673156738}\n",
            "{'epoch': 19, 'time_s': 0.6909103393554688, 'loss': 0.0659295404329896, 'mse': 0.04419898148626089, 'l1': 0.07524263858795166, 'psnr': 13.545876502990723, 'val_loss': 0.045174840837717056, 'val_mse': 0.022573325783014297, 'val_l1': 0.05486120656132698, 'val_psnr': 16.46404266357422}\n",
            "{'epoch': 20, 'time_s': 0.6653609275817871, 'loss': 0.056923363357782364, 'mse': 0.03347933664917946, 'l1': 0.06697080470621586, 'psnr': 14.752230644226074, 'val_loss': 0.041956573724746704, 'val_mse': 0.01923857256770134, 'val_l1': 0.051692862063646317, 'val_psnr': 17.15826988220215}\n",
            "{'epoch': 21, 'time_s': 0.6527855396270752, 'loss': 0.05800810921937227, 'mse': 0.03753896290436387, 'l1': 0.06678060069680214, 'psnr': 14.255175590515137, 'val_loss': 0.038179028779268265, 'val_mse': 0.01834583654999733, 'val_l1': 0.04667896777391434, 'val_psnr': 17.364622116088867}\n",
            "{'epoch': 22, 'time_s': 0.6354703903198242, 'loss': 0.0510584581643343, 'mse': 0.03289173822849989, 'l1': 0.05884419661015272, 'psnr': 14.829130172729492, 'val_loss': 0.043219197541475296, 'val_mse': 0.02167751081287861, 'val_l1': 0.052451346069574356, 'val_psnr': 16.639904022216797}\n",
            "{'epoch': 23, 'time_s': 0.5236809253692627, 'loss': 0.04433448892086744, 'mse': 0.027115874458104372, 'l1': 0.05171389505267143, 'psnr': 15.667762756347656, 'val_loss': 0.03954940661787987, 'val_mse': 0.023789912462234497, 'val_l1': 0.04630347713828087, 'val_psnr': 16.23607063293457}\n",
            "{'epoch': 24, 'time_s': 0.5141880512237549, 'loss': 0.042113132774829865, 'mse': 0.02624486293643713, 'l1': 0.04891382157802582, 'psnr': 15.809555053710938, 'val_loss': 0.0426790788769722, 'val_mse': 0.025955889374017715, 'val_l1': 0.049846161156892776, 'val_psnr': 15.85763931274414}\n",
            "{'epoch': 25, 'time_s': 0.5879969596862793, 'loss': 0.036090873181819916, 'mse': 0.02196813840419054, 'l1': 0.04214347433298826, 'psnr': 16.58206558227539, 'val_loss': 0.03343018889427185, 'val_mse': 0.021318580955266953, 'val_l1': 0.038620878010988235, 'val_psnr': 16.71241569519043}\n",
            "{'epoch': 26, 'time_s': 0.522611141204834, 'loss': 0.03208822291344404, 'mse': 0.019952884409576654, 'l1': 0.037289081141352654, 'psnr': 16.999940872192383, 'val_loss': 0.031968969851732254, 'val_mse': 0.02069268189370632, 'val_l1': 0.036801666021347046, 'val_psnr': 16.841829299926758}\n",
            "{'epoch': 27, 'time_s': 0.5243029594421387, 'loss': 0.03027304820716381, 'mse': 0.019463976379483938, 'l1': 0.03490550722926855, 'psnr': 17.107681274414062, 'val_loss': 0.038305699825286865, 'val_mse': 0.02699819952249527, 'val_l1': 0.043151769787073135, 'val_psnr': 15.686650276184082}\n",
            "{'epoch': 28, 'time_s': 0.5001418590545654, 'loss': 0.027457886841148138, 'mse': 0.017211137805134058, 'l1': 0.03184934938326478, 'psnr': 17.641902923583984, 'val_loss': 0.034606270492076874, 'val_mse': 0.024902142584323883, 'val_l1': 0.038765180855989456, 'val_psnr': 16.03763198852539}\n",
            "{'epoch': 29, 'time_s': 0.5162069797515869, 'loss': 0.02486972277984023, 'mse': 0.015950591070577502, 'l1': 0.028692208230495453, 'psnr': 17.97222900390625, 'val_loss': 0.024392616003751755, 'val_mse': 0.017078135162591934, 'val_l1': 0.027527393773198128, 'val_psnr': 17.67559242248535}\n",
            "{'epoch': 30, 'time_s': 0.5051352977752686, 'loss': 0.023473734967410564, 'mse': 0.015397883486002684, 'l1': 0.02693481370806694, 'psnr': 18.125385284423828, 'val_loss': 0.026231123134493828, 'val_mse': 0.019382480531930923, 'val_l1': 0.02916625700891018, 'val_psnr': 17.125904083251953}\n",
            "{'epoch': 31, 'time_s': 0.5089764595031738, 'loss': 0.021865349728614092, 'mse': 0.014576653949916363, 'l1': 0.024989076424390078, 'psnr': 18.363418579101562, 'val_loss': 0.03147038817405701, 'val_mse': 0.024519944563508034, 'val_l1': 0.034449152648448944, 'val_psnr': 16.10480308532715}\n",
            "{'epoch': 32, 'time_s': 0.5209600925445557, 'loss': 0.021455090027302504, 'mse': 0.014652659185230732, 'l1': 0.024370417464524508, 'psnr': 18.340831756591797, 'val_loss': 0.03131638839840889, 'val_mse': 0.024842841550707817, 'val_l1': 0.03409076854586601, 'val_psnr': 16.047985076904297}\n",
            "{'epoch': 33, 'time_s': 0.4997372627258301, 'loss': 0.024174347054213285, 'mse': 0.0174012235365808, 'l1': 0.027077114209532738, 'psnr': 17.594200134277344, 'val_loss': 0.02828964963555336, 'val_mse': 0.021604323759675026, 'val_l1': 0.03115478903055191, 'val_psnr': 16.654590606689453}\n",
            "{'epoch': 34, 'time_s': 0.5238752365112305, 'loss': 0.023565540090203285, 'mse': 0.016168944537639618, 'l1': 0.026735509745776653, 'psnr': 17.91318130493164, 'val_loss': 0.023259060457348824, 'val_mse': 0.017934594303369522, 'val_l1': 0.025540973991155624, 'val_psnr': 17.46308135986328}\n",
            "{'epoch': 35, 'time_s': 0.507270097732544, 'loss': 0.02157295774668455, 'mse': 0.015201245667412877, 'l1': 0.02430369146168232, 'psnr': 18.18120574951172, 'val_loss': 0.02188888192176819, 'val_mse': 0.016648560762405396, 'val_l1': 0.02413473278284073, 'val_psnr': 17.786231994628906}\n",
            "{'epoch': 36, 'time_s': 0.5126664638519287, 'loss': 0.020236513577401638, 'mse': 0.014554631430655718, 'l1': 0.022671605460345745, 'psnr': 18.369983673095703, 'val_loss': 0.026645325124263763, 'val_mse': 0.020943118259310722, 'val_l1': 0.029089126735925674, 'val_psnr': 16.78958511352539}\n",
            "{'epoch': 37, 'time_s': 0.5194897651672363, 'loss': 0.018746329937130213, 'mse': 0.012728973757475615, 'l1': 0.02132519707083702, 'psnr': 18.952062606811523, 'val_loss': 0.023188132792711258, 'val_mse': 0.017873728647828102, 'val_l1': 0.02546573430299759, 'val_psnr': 17.477846145629883}\n",
            "{'epoch': 38, 'time_s': 0.5954561233520508, 'loss': 0.017740058479830623, 'mse': 0.01214504474774003, 'l1': 0.020137921907007694, 'psnr': 19.156005859375, 'val_loss': 0.020156029611825943, 'val_mse': 0.015711363404989243, 'val_l1': 0.022060886025428772, 'val_psnr': 18.037858963012695}\n",
            "{'epoch': 39, 'time_s': 0.5163733959197998, 'loss': 0.016054458450526, 'mse': 0.010773473186418414, 'l1': 0.018317738315090537, 'psnr': 19.67643928527832, 'val_loss': 0.020897772163152695, 'val_mse': 0.016281848773360252, 'val_l1': 0.02287602424621582, 'val_psnr': 17.882959365844727}\n",
            "{'epoch': 40, 'time_s': 0.4972960948944092, 'loss': 0.014080439694225788, 'mse': 0.009185149916447699, 'l1': 0.01617842074483633, 'psnr': 20.369131088256836, 'val_loss': 0.019915997982025146, 'val_mse': 0.01586497202515602, 'val_l1': 0.02165215089917183, 'val_psnr': 17.995603561401367}\n",
            "{'epoch': 41, 'time_s': 0.5849699974060059, 'loss': 0.012148512993007898, 'mse': 0.007482342072762549, 'l1': 0.014148300513625145, 'psnr': 21.25961685180664, 'val_loss': 0.01853359490633011, 'val_mse': 0.013973566703498363, 'val_l1': 0.020487893372774124, 'val_psnr': 18.546924591064453}\n",
            "{'epoch': 42, 'time_s': 0.7016432285308838, 'loss': 0.01158681814558804, 'mse': 0.007099133916199207, 'l1': 0.013510111486539245, 'psnr': 21.487939834594727, 'val_loss': 0.018694361671805382, 'val_mse': 0.014960015192627907, 'val_l1': 0.0202947948127985, 'val_psnr': 18.25067710876465}\n",
            "{'epoch': 43, 'time_s': 0.7439310550689697, 'loss': 0.01176894223317504, 'mse': 0.00773123896215111, 'l1': 0.013499386608600616, 'psnr': 21.117504119873047, 'val_loss': 0.01883823238313198, 'val_mse': 0.015448154881596565, 'val_l1': 0.020291123539209366, 'val_psnr': 18.111230850219727}\n",
            "{'epoch': 44, 'time_s': 0.6655693054199219, 'loss': 0.009956102818250656, 'mse': 0.006444188882596791, 'l1': 0.011461209156550467, 'psnr': 21.90831184387207, 'val_loss': 0.01573345623910427, 'val_mse': 0.012373257428407669, 'val_l1': 0.017173541709780693, 'val_psnr': 19.075157165527344}\n",
            "{'epoch': 45, 'time_s': 0.6826915740966797, 'loss': 0.010532575426623225, 'mse': 0.006684509920887649, 'l1': 0.012181746773421764, 'psnr': 21.749298095703125, 'val_loss': 0.016347790136933327, 'val_mse': 0.012941902503371239, 'val_l1': 0.017807457596063614, 'val_psnr': 18.880016326904297}\n",
            "{'epoch': 46, 'time_s': 0.5761721134185791, 'loss': 0.012419066624715924, 'mse': 0.008656690828502178, 'l1': 0.014031513594090939, 'psnr': 20.626476287841797, 'val_loss': 0.017823494970798492, 'val_mse': 0.014410648494958878, 'val_l1': 0.0192861445248127, 'val_psnr': 18.413162231445312}\n",
            "{'epoch': 47, 'time_s': 0.5155024528503418, 'loss': 0.011213965713977814, 'mse': 0.007429946213960648, 'l1': 0.012835688656195998, 'psnr': 21.290138244628906, 'val_loss': 0.016847671940922737, 'val_mse': 0.01384858600795269, 'val_l1': 0.018132993951439857, 'val_psnr': 18.5859432220459}\n",
            "{'epoch': 48, 'time_s': 0.514674186706543, 'loss': 0.010029568569734693, 'mse': 0.006579370121471584, 'l1': 0.011508225230500102, 'psnr': 21.818151473999023, 'val_loss': 0.014919370412826538, 'val_mse': 0.012214845977723598, 'val_l1': 0.01607845164835453, 'val_psnr': 19.13111686706543}\n",
            "{'epoch': 49, 'time_s': 0.5141482353210449, 'loss': 0.00840410718228668, 'mse': 0.0052872898522764444, 'l1': 0.009739886038005352, 'psnr': 22.76766014099121, 'val_loss': 0.011214537546038628, 'val_mse': 0.008889410644769669, 'val_l1': 0.012211020104587078, 'val_psnr': 20.51126480102539}\n",
            "{'epoch': 50, 'time_s': 0.6089122295379639, 'loss': 0.008337914710864425, 'mse': 0.005328223924152553, 'l1': 0.009627782041206956, 'psnr': 22.734167098999023, 'val_loss': 0.009217878803610802, 'val_mse': 0.007031941786408424, 'val_l1': 0.010154709219932556, 'val_psnr': 21.529239654541016}\n",
            "{'epoch': 51, 'time_s': 0.5110452175140381, 'loss': 0.006536877830512822, 'mse': 0.003856156370602548, 'l1': 0.007685758639127016, 'psnr': 24.13844108581543, 'val_loss': 0.011885283514857292, 'val_mse': 0.009605738334357738, 'val_l1': 0.012862231582403183, 'val_psnr': 20.174686431884766}\n",
            "{'epoch': 52, 'time_s': 0.5015950202941895, 'loss': 0.006393752817530185, 'mse': 0.0038494965992867947, 'l1': 0.007484148372896016, 'psnr': 24.14594841003418, 'val_loss': 0.008184865117073059, 'val_mse': 0.006016429513692856, 'val_l1': 0.00911419466137886, 'val_psnr': 22.20660400390625}\n",
            "{'epoch': 53, 'time_s': 0.5210516452789307, 'loss': 0.005917859962210059, 'mse': 0.0034369028289802372, 'l1': 0.006981127196922898, 'psnr': 24.63831329345703, 'val_loss': 0.006378602236509323, 'val_mse': 0.004395472817122936, 'val_l1': 0.007228515110909939, 'val_psnr': 23.569934844970703}\n",
            "{'epoch': 54, 'time_s': 0.5114235877990723, 'loss': 0.00492284371284768, 'mse': 0.0026020336081273854, 'l1': 0.005917476722970605, 'psnr': 25.846853256225586, 'val_loss': 0.0068230414763092995, 'val_mse': 0.004932500887662172, 'val_l1': 0.007633273024111986, 'val_psnr': 23.069320678710938}\n",
            "{'epoch': 55, 'time_s': 0.512373685836792, 'loss': 0.004326371941715479, 'mse': 0.002266199328005314, 'l1': 0.005209302995353937, 'psnr': 26.44700050354004, 'val_loss': 0.006454175338149071, 'val_mse': 0.004669706337153912, 'val_l1': 0.007218947168439627, 'val_psnr': 23.30709457397461}\n",
            "{'epoch': 56, 'time_s': 0.5137286186218262, 'loss': 0.003477930265944451, 'mse': 0.0018396002415101975, 'l1': 0.004180071642622352, 'psnr': 27.352741241455078, 'val_loss': 0.0062060244381427765, 'val_mse': 0.004377129953354597, 'val_l1': 0.006989836227148771, 'val_psnr': 23.58809471130371}\n",
            "{'epoch': 57, 'time_s': 0.5136740207672119, 'loss': 0.0031474072602577507, 'mse': 0.0015242845984175801, 'l1': 0.0038430311833508313, 'psnr': 28.169309616088867, 'val_loss': 0.005959776230156422, 'val_mse': 0.004041040316224098, 'val_l1': 0.006782091688364744, 'val_psnr': 23.93505859375}\n",
            "{'epoch': 58, 'time_s': 0.5131380558013916, 'loss': 0.0033341997768729925, 'mse': 0.001635038643144071, 'l1': 0.004062411782797426, 'psnr': 27.86469268798828, 'val_loss': 0.006460874807089567, 'val_mse': 0.004723665304481983, 'val_l1': 0.00720539316534996, 'val_psnr': 23.257200241088867}\n",
            "{'epoch': 59, 'time_s': 0.5220916271209717, 'loss': 0.0036502367875073105, 'mse': 0.0017578380939085037, 'l1': 0.0044612648780457675, 'psnr': 27.550186157226562, 'val_loss': 0.00701022008433938, 'val_mse': 0.0051115755923092365, 'val_l1': 0.007823924534022808, 'val_psnr': 22.914443969726562}\n",
            "{'epoch': 60, 'time_s': 0.524505615234375, 'loss': 0.00752731563989073, 'mse': 0.0052579722832888365, 'l1': 0.008499891264364123, 'psnr': 22.791807174682617, 'val_loss': 0.008801927790045738, 'val_mse': 0.007210843730717897, 'val_l1': 0.00948382169008255, 'val_psnr': 21.420133590698242}\n",
            "{'epoch': 61, 'time_s': 0.5118832588195801, 'loss': 0.006096937227994204, 'mse': 0.004434667527675629, 'l1': 0.0068093385780230165, 'psnr': 23.53137969970703, 'val_loss': 0.010495726019144058, 'val_mse': 0.008470755070447922, 'val_l1': 0.01136357057839632, 'val_psnr': 20.72077178955078}\n",
            "{'epoch': 62, 'time_s': 0.5132215023040771, 'loss': 0.00450882303994149, 'mse': 0.0027869203477166593, 'l1': 0.005246781278401613, 'psnr': 25.54874038696289, 'val_loss': 0.006920323241502047, 'val_mse': 0.0054002804681658745, 'val_l1': 0.007571770343929529, 'val_psnr': 22.67582893371582}\n",
            "{'epoch': 63, 'time_s': 0.6119635105133057, 'loss': 0.005459683598019183, 'mse': 0.0037133226287551224, 'l1': 0.006208123988471925, 'psnr': 24.30236053466797, 'val_loss': 0.005228765308856964, 'val_mse': 0.0038403982762247324, 'val_l1': 0.005823779851198196, 'val_psnr': 24.156227111816406}\n",
            "{'epoch': 64, 'time_s': 0.5646724700927734, 'loss': 0.00411323324078694, 'mse': 0.0025726980238687247, 'l1': 0.004773462715093046, 'psnr': 25.896093368530273, 'val_loss': 0.015172148123383522, 'val_mse': 0.012777957133948803, 'val_l1': 0.016198230907320976, 'val_psnr': 18.935382843017578}\n",
            "{'epoch': 65, 'time_s': 0.6679480075836182, 'loss': 0.005513922136742622, 'mse': 0.00308138839318417, 'l1': 0.006556436535902321, 'psnr': 25.11252212524414, 'val_loss': 0.0046792044304311275, 'val_mse': 0.003477332182228565, 'val_l1': 0.0051942928694188595, 'val_psnr': 24.587526321411133}\n",
            "{'epoch': 66, 'time_s': 0.710242748260498, 'loss': 0.0033975528785958886, 'mse': 0.0018412283679936081, 'l1': 0.004064549226313829, 'psnr': 27.348899841308594, 'val_loss': 0.004979326855391264, 'val_mse': 0.0037025646306574345, 'val_l1': 0.0055265105329453945, 'val_psnr': 24.314960479736328}\n",
            "{'epoch': 67, 'time_s': 0.6502962112426758, 'loss': 0.004321307351347059, 'mse': 0.0021252802980598062, 'l1': 0.005262462014798075, 'psnr': 26.72581672668457, 'val_loss': 0.005741833243519068, 'val_mse': 0.004427934065461159, 'val_l1': 0.0063049327582120895, 'val_psnr': 23.537979125976562}\n",
            "{'epoch': 68, 'time_s': 0.6770446300506592, 'loss': 0.0034504718496464193, 'mse': 0.0017871431482490152, 'l1': 0.004163327103015035, 'psnr': 27.478382110595703, 'val_loss': 0.005911969114094973, 'val_mse': 0.0045529985800385475, 'val_l1': 0.006494385190308094, 'val_psnr': 23.417015075683594}\n",
            "{'epoch': 69, 'time_s': 0.5331814289093018, 'loss': 0.005462950794026256, 'mse': 0.0038697245763614774, 'l1': 0.0061457621632143855, 'psnr': 24.12318992614746, 'val_loss': 0.0046376329846680164, 'val_mse': 0.0033211580011993647, 'val_l1': 0.005201836582273245, 'val_psnr': 24.787092208862305}\n",
            "{'epoch': 70, 'time_s': 0.5109331607818604, 'loss': 0.004206457670079544, 'mse': 0.0026844425228773616, 'l1': 0.004858749802224338, 'psnr': 25.711442947387695, 'val_loss': 0.004916667938232422, 'val_mse': 0.0036646646913141012, 'val_l1': 0.005453241057693958, 'val_psnr': 24.35964584350586}\n",
            "{'epoch': 71, 'time_s': 0.5269908905029297, 'loss': 0.004015631217043847, 'mse': 0.0026124422438442707, 'l1': 0.004616998019628227, 'psnr': 25.82951545715332, 'val_loss': 0.00655632046982646, 'val_mse': 0.005061794072389603, 'val_l1': 0.0071968319825828075, 'val_psnr': 22.956945419311523}\n",
            "{'epoch': 72, 'time_s': 0.50396728515625, 'loss': 0.004500373906921595, 'mse': 0.0027112903189845383, 'l1': 0.005267124157398939, 'psnr': 25.668222427368164, 'val_loss': 0.006280968897044659, 'val_mse': 0.004801755305379629, 'val_l1': 0.006914916913956404, 'val_psnr': 23.185989379882812}\n",
            "{'epoch': 73, 'time_s': 0.5280678272247314, 'loss': 0.0029288803052622825, 'mse': 0.0016788914799690247, 'l1': 0.0034645897103473544, 'psnr': 27.74974822998047, 'val_loss': 0.019225774332880974, 'val_mse': 0.017675237730145454, 'val_l1': 0.01989028975367546, 'val_psnr': 17.526344299316406}\n",
            "{'epoch': 74, 'time_s': 0.5123190879821777, 'loss': 0.005781583313364536, 'mse': 0.004440037795575336, 'l1': 0.006356531172059476, 'psnr': 23.526123046875, 'val_loss': 0.005058549344539642, 'val_mse': 0.0038626687601208687, 'val_l1': 0.005571069661527872, 'val_psnr': 24.131114959716797}\n",
            "{'epoch': 75, 'time_s': 0.616203784942627, 'loss': 0.004273665137588978, 'mse': 0.0025815186672843993, 'l1': 0.004998870776034892, 'psnr': 25.8812313079834, 'val_loss': 0.01763598993420601, 'val_mse': 0.01580752432346344, 'val_l1': 0.018419619649648666, 'val_psnr': 18.0113582611084}\n",
            "{'epoch': 76, 'time_s': 0.5108754634857178, 'loss': 0.004273410770110786, 'mse': 0.0027676766621880233, 'l1': 0.004918725462630391, 'psnr': 25.57883071899414, 'val_loss': 0.004487663507461548, 'val_mse': 0.003346002195030451, 'val_l1': 0.004976946860551834, 'val_psnr': 24.754724502563477}\n",
            "{'epoch': 77, 'time_s': 0.5199179649353027, 'loss': 0.0034285549772903323, 'mse': 0.0021262776281218976, 'l1': 0.003986673837061971, 'psnr': 26.72378158569336, 'val_loss': 0.004922745283693075, 'val_mse': 0.0037476830184459686, 'val_l1': 0.005426343530416489, 'val_psnr': 24.262359619140625}\n",
            "{'epoch': 78, 'time_s': 0.5060098171234131, 'loss': 0.0035132780903950334, 'mse': 0.0017542643763590604, 'l1': 0.0042671411065384746, 'psnr': 27.559024810791016, 'val_loss': 0.004149680025875568, 'val_mse': 0.0029712747782468796, 'val_l1': 0.004654711112380028, 'val_psnr': 25.270557403564453}\n",
            "{'epoch': 79, 'time_s': 0.5049228668212891, 'loss': 0.0025293776707258075, 'mse': 0.0012450267531676218, 'l1': 0.0030798137886449695, 'psnr': 29.04817771911621, 'val_loss': 0.005325786769390106, 'val_mse': 0.0038294573314487934, 'val_l1': 0.005967070814222097, 'val_psnr': 24.168615341186523}\n",
            "{'epoch': 80, 'time_s': 0.5216710567474365, 'loss': 0.0027135872514918447, 'mse': 0.0012821679847547784, 'l1': 0.0033270526910200715, 'psnr': 28.920516967773438, 'val_loss': 0.0038729077205061913, 'val_mse': 0.0028454926796257496, 'val_l1': 0.004313228651881218, 'val_psnr': 25.458410263061523}\n",
            "{'epoch': 81, 'time_s': 0.5074033737182617, 'loss': 0.002495138702215627, 'mse': 0.0012488621214288287, 'l1': 0.0030292572337202728, 'psnr': 29.034820556640625, 'val_loss': 0.0037657711654901505, 'val_mse': 0.0028037838637828827, 'val_l1': 0.004178051371127367, 'val_psnr': 25.522539138793945}\n",
            "{'epoch': 82, 'time_s': 0.5033118724822998, 'loss': 0.0019960400240961462, 'mse': 0.00093391741393134, 'l1': 0.002451235370244831, 'psnr': 30.2968692779541, 'val_loss': 0.007832960225641727, 'val_mse': 0.00660856906324625, 'val_l1': 0.008357699029147625, 'val_psnr': 21.798917770385742}\n",
            "{'epoch': 83, 'time_s': 0.5072004795074463, 'loss': 0.0021087772329337895, 'mse': 0.001183946369565092, 'l1': 0.002505133335944265, 'psnr': 29.266643524169922, 'val_loss': 0.0038092739414423704, 'val_mse': 0.002879011444747448, 'val_l1': 0.004207958001643419, 'val_psnr': 25.407550811767578}\n",
            "{'epoch': 84, 'time_s': 0.5111854076385498, 'loss': 0.0013743496529059485, 'mse': 0.0006130305223450705, 'l1': 0.0017006293492158875, 'psnr': 32.12510681152344, 'val_loss': 0.0035895465407520533, 'val_mse': 0.002591649303212762, 'val_l1': 0.004017216619104147, 'val_psnr': 25.864221572875977}\n",
            "{'epoch': 85, 'time_s': 0.536914587020874, 'loss': 0.0012996473524253815, 'mse': 0.00048222228724625893, 'l1': 0.0016499724006280303, 'psnr': 33.16743469238281, 'val_loss': 0.004047326743602753, 'val_mse': 0.0029585459269583225, 'val_l1': 0.004513947293162346, 'val_psnr': 25.289201736450195}\n",
            "{'epoch': 86, 'time_s': 0.5187790393829346, 'loss': 0.0012490917288232595, 'mse': 0.0004864426300628111, 'l1': 0.0015759413945488632, 'psnr': 33.12959289550781, 'val_loss': 0.003823118517175317, 'val_mse': 0.0029609694611281157, 'val_l1': 0.004192611202597618, 'val_psnr': 25.285646438598633}\n",
            "{'epoch': 87, 'time_s': 0.5520930290222168, 'loss': 0.0011629279470071197, 'mse': 0.00042998093158530537, 'l1': 0.0014770481211598963, 'psnr': 33.6654052734375, 'val_loss': 0.003637489629909396, 'val_mse': 0.002878959523513913, 'val_l1': 0.003962574061006308, 'val_psnr': 25.407629013061523}\n",
            "{'epoch': 88, 'time_s': 0.7795114517211914, 'loss': 0.0011972607462666929, 'mse': 0.0004852817437495105, 'l1': 0.0015023945597931743, 'psnr': 33.13996887207031, 'val_loss': 0.0028939819894731045, 'val_mse': 0.0021915382239967585, 'val_l1': 0.0031950296834111214, 'val_psnr': 26.592491149902344}\n",
            "{'epoch': 89, 'time_s': 0.7089407444000244, 'loss': 0.0010763483151094988, 'mse': 0.00024948165082605556, 'l1': 0.0014307197707239538, 'psnr': 36.02943801879883, 'val_loss': 0.0029923429246991873, 'val_mse': 0.0022721304558217525, 'val_l1': 0.003301005344837904, 'val_psnr': 26.435649871826172}\n",
            "{'epoch': 90, 'time_s': 0.6687455177307129, 'loss': 0.0013626600557472557, 'mse': 0.00038856122409924865, 'l1': 0.0017801309295464307, 'psnr': 34.10529327392578, 'val_loss': 0.0027978266589343548, 'val_mse': 0.0021195639856159687, 'val_l1': 0.0030885108280926943, 'val_psnr': 26.73751449584961}\n",
            "{'epoch': 91, 'time_s': 0.6784098148345947, 'loss': 0.0010325572657166049, 'mse': 0.0002221447830379475, 'l1': 0.0013798768923152238, 'psnr': 36.533443450927734, 'val_loss': 0.0024668057449162006, 'val_mse': 0.0018954253755509853, 'val_l1': 0.0027116830460727215, 'val_psnr': 27.222909927368164}\n",
            "{'epoch': 92, 'time_s': 0.5097713470458984, 'loss': 0.000816114668850787, 'mse': 0.0001738874489092268, 'l1': 0.0010913549340330064, 'psnr': 37.597068786621094, 'val_loss': 0.0025058339815586805, 'val_mse': 0.00195094826631248, 'val_l1': 0.0027436423115432262, 'val_psnr': 27.09752082824707}\n",
            "{'epoch': 93, 'time_s': 0.505141019821167, 'loss': 0.0006035217957105488, 'mse': 0.00013599367048300337, 'l1': 0.0008038909872993827, 'psnr': 38.664493560791016, 'val_loss': 0.0028308595065027475, 'val_mse': 0.0022884535137563944, 'val_l1': 0.0030633192509412766, 'val_psnr': 26.404560089111328}\n",
            "{'epoch': 94, 'time_s': 0.5125653743743896, 'loss': 0.0006834551168140024, 'mse': 0.00013050294001004659, 'l1': 0.0009204345988109708, 'psnr': 38.84346389770508, 'val_loss': 0.0028222189284861088, 'val_mse': 0.002296628663316369, 'val_l1': 0.003047471633180976, 'val_psnr': 26.389074325561523}\n",
            "{'epoch': 95, 'time_s': 0.5316305160522461, 'loss': 0.0007054658635752276, 'mse': 0.0001078673103620531, 'l1': 0.0009615795279387385, 'psnr': 39.67070007324219, 'val_loss': 0.002671333495527506, 'val_mse': 0.002177837071940303, 'val_l1': 0.0028828319627791643, 'val_psnr': 26.61972427368164}\n",
            "{'epoch': 96, 'time_s': 0.518362283706665, 'loss': 0.0006161818164400756, 'mse': 8.555825024814112e-05, 'l1': 0.0008435919444309548, 'psnr': 40.676876068115234, 'val_loss': 0.002660144818946719, 'val_mse': 0.0021655820310115814, 'val_l1': 0.002872100565582514, 'val_psnr': 26.64423370361328}\n",
            "{'epoch': 97, 'time_s': 0.5139710903167725, 'loss': 0.0006735816859873012, 'mse': 8.670910210639704e-05, 'l1': 0.000925098531297408, 'psnr': 40.61885452270508, 'val_loss': 0.002706995466724038, 'val_mse': 0.002208487829193473, 'val_l1': 0.00292064156383276, 'val_psnr': 26.559030532836914}\n",
            "{'epoch': 98, 'time_s': 0.5045623779296875, 'loss': 0.000967634296102915, 'mse': 0.00011708765850926284, 'l1': 0.0013321542937774211, 'psnr': 39.314517974853516, 'val_loss': 0.0025866031646728516, 'val_mse': 0.002115391194820404, 'val_l1': 0.002788551151752472, 'val_psnr': 26.74607276916504}\n",
            "{'epoch': 99, 'time_s': 0.5126185417175293, 'loss': 0.0015780522662680596, 'mse': 0.0001582941331434995, 'l1': 0.002186520054237917, 'psnr': 38.00507736206055, 'val_loss': 0.0024523544125258923, 'val_mse': 0.0020134528167545795, 'val_l1': 0.0026404550299048424, 'val_psnr': 26.96056365966797}\n",
            "{'epoch': 100, 'time_s': 0.594245433807373, 'loss': 0.0009667873528087512, 'mse': 0.00011073041878262302, 'l1': 0.0013336689735297114, 'psnr': 39.55693817138672, 'val_loss': 0.002451208420097828, 'val_mse': 0.0020190344657748938, 'val_l1': 0.002636425895616412, 'val_psnr': 26.94853973388672}\n",
            "{'epoch': 101, 'time_s': 0.5328347682952881, 'loss': 0.0007515630568377674, 'mse': 7.808229838701664e-05, 'l1': 0.0010401977051515132, 'psnr': 41.073917388916016, 'val_loss': 0.0023726043291389942, 'val_mse': 0.0019486952805891633, 'val_l1': 0.002554279752075672, 'val_psnr': 27.1025390625}\n",
            "{'epoch': 102, 'time_s': 0.5073249340057373, 'loss': 0.0009329092426924035, 'mse': 9.310200402978808e-05, 'l1': 0.0012928266951348633, 'psnr': 40.30994415283203, 'val_loss': 0.0023338559549301863, 'val_mse': 0.001913006417453289, 'val_l1': 0.0025142200756818056, 'val_psnr': 27.182811737060547}\n",
            "{'epoch': 103, 'time_s': 0.5468473434448242, 'loss': 0.0007810808237991296, 'mse': 6.869250137242489e-05, 'l1': 0.0010863901406992227, 'psnr': 41.630271911621094, 'val_loss': 0.0023431084118783474, 'val_mse': 0.0019264984875917435, 'val_l1': 0.002521655522286892, 'val_psnr': 27.15229034423828}\n",
            "{'epoch': 104, 'time_s': 0.5119907855987549, 'loss': 0.0011902957121492364, 'mse': 0.00011211438140890095, 'l1': 0.0016523733938811347, 'psnr': 39.50299835205078, 'val_loss': 0.00225610239431262, 'val_mse': 0.0018625014927238226, 'val_l1': 0.0024247884284704924, 'val_psnr': 27.29901123046875}\n",
            "{'epoch': 105, 'time_s': 0.533057451248169, 'loss': 0.0007256501849042252, 'mse': 6.709121771564241e-05, 'l1': 0.0010078897466883063, 'psnr': 41.732696533203125, 'val_loss': 0.0021741753444075584, 'val_mse': 0.0017906156135722995, 'val_l1': 0.002338557969778776, 'val_psnr': 27.469951629638672}\n",
            "{'epoch': 106, 'time_s': 0.5210886001586914, 'loss': 0.000678675507515436, 'mse': 7.0346954089473e-05, 'l1': 0.0009393877662660088, 'psnr': 41.52692794799805, 'val_loss': 0.0027897092513740063, 'val_mse': 0.00230430718511343, 'val_l1': 0.0029977387748658657, 'val_psnr': 26.37457847595215}\n",
            "{'epoch': 107, 'time_s': 0.5324447154998779, 'loss': 0.0007520479848608375, 'mse': 0.00010267166317134979, 'l1': 0.001030352166708326, 'psnr': 39.88507080078125, 'val_loss': 0.0024038683623075485, 'val_mse': 0.001983846304938197, 'val_l1': 0.002583877881988883, 'val_psnr': 27.024898529052734}\n",
            "{'epoch': 108, 'time_s': 0.8054118156433105, 'loss': 0.0009694872715044767, 'mse': 0.00010658763676474337, 'l1': 0.0013393013796303421, 'psnr': 39.7225227355957, 'val_loss': 0.002162747550755739, 'val_mse': 0.0017779710469767451, 'val_l1': 0.0023276517167687416, 'val_psnr': 27.500728607177734}\n",
            "{'epoch': 109, 'time_s': 0.5553045272827148, 'loss': 0.0008151692745741457, 'mse': 8.813564090814907e-05, 'l1': 0.0011267551162745804, 'psnr': 40.54798889160156, 'val_loss': 0.0022135013714432716, 'val_mse': 0.0017908656736835837, 'val_l1': 0.0023946308065205812, 'val_psnr': 27.46934700012207}\n",
            "{'epoch': 110, 'time_s': 0.71659255027771, 'loss': 0.001000341770122759, 'mse': 0.00011737596105376724, 'l1': 0.0013787557400064543, 'psnr': 39.30384063720703, 'val_loss': 0.002004130743443966, 'val_mse': 0.001610065228305757, 'val_l1': 0.002173016080632806, 'val_psnr': 27.931537628173828}\n",
            "{'epoch': 111, 'time_s': 0.7027313709259033, 'loss': 0.0013569808361353353, 'mse': 0.00012405161578499246, 'l1': 0.0018853791116271168, 'psnr': 39.06362533569336, 'val_loss': 0.0019710601773113012, 'val_mse': 0.0015787783777341247, 'val_l1': 0.002139180898666382, 'val_psnr': 28.016759872436523}\n",
            "{'epoch': 112, 'time_s': 0.711604118347168, 'loss': 0.0007797023572493345, 'mse': 6.295690673141507e-05, 'l1': 0.0010868789395317435, 'psnr': 42.00887680053711, 'val_loss': 0.0021234569139778614, 'val_mse': 0.0017095303628593683, 'val_l1': 0.002300853841006756, 'val_psnr': 27.671205520629883}\n",
            "{'epoch': 113, 'time_s': 0.7516152858734131, 'loss': 0.0014030276906851213, 'mse': 0.00018908870606537675, 'l1': 0.0019232872436987236, 'psnr': 37.233116149902344, 'val_loss': 0.0019653316121548414, 'val_mse': 0.001578132389113307, 'val_l1': 0.00213127420283854, 'val_psnr': 28.018539428710938}\n",
            "{'epoch': 114, 'time_s': 0.5255591869354248, 'loss': 0.0013873601128580049, 'mse': 0.00015778158285684185, 'l1': 0.001914322463562712, 'psnr': 38.019161224365234, 'val_loss': 0.0026226008776575327, 'val_mse': 0.0021322278771549463, 'val_l1': 0.002832760801538825, 'val_psnr': 26.71164321899414}\n",
            "{'epoch': 115, 'time_s': 0.5256097316741943, 'loss': 0.000897794816410169, 'mse': 0.00013956554175820202, 'l1': 0.0012227502302266657, 'psnr': 38.55190658569336, 'val_loss': 0.002729129046201706, 'val_mse': 0.0022485104855149984, 'val_l1': 0.0029351082630455494, 'val_psnr': 26.481033325195312}\n",
            "{'epoch': 116, 'time_s': 0.5150094032287598, 'loss': 0.0010858278037630953, 'mse': 0.0001662699469306972, 'l1': 0.0014799240962020122, 'psnr': 37.79159927368164, 'val_loss': 0.0022981129586696625, 'val_mse': 0.0018847461324185133, 'val_l1': 0.002475270302966237, 'val_psnr': 27.247447967529297}\n",
            "{'epoch': 117, 'time_s': 0.5129785537719727, 'loss': 0.00085325136751635, 'mse': 9.542849875288084e-05, 'l1': 0.0011780326385633089, 'psnr': 40.20276641845703, 'val_loss': 0.0023035514168441296, 'val_mse': 0.0018344540148973465, 'val_l1': 0.002504593227058649, 'val_psnr': 27.364906311035156}\n",
            "{'epoch': 118, 'time_s': 0.5210177898406982, 'loss': 0.0007897318137111142, 'mse': 0.00011446039115980966, 'l1': 0.001079133857274428, 'psnr': 39.41306686401367, 'val_loss': 0.0014392605517059565, 'val_mse': 0.001111953635700047, 'val_l1': 0.001579534960910678, 'val_psnr': 29.539093017578125}\n",
            "{'epoch': 119, 'time_s': 0.5201122760772705, 'loss': 0.0006187225008034147, 'mse': 7.160594213928562e-05, 'l1': 0.0008532010397175327, 'psnr': 41.44990539550781, 'val_loss': 0.0016817286377772689, 'val_mse': 0.00132810662034899, 'val_l1': 0.0018332808976992965, 'val_psnr': 28.76763916015625}\n",
            "{'epoch': 120, 'time_s': 0.5044796466827393, 'loss': 0.0004909893905278295, 'mse': 4.565346989693353e-05, 'l1': 0.0006818476394983009, 'psnr': 43.40431213378906, 'val_loss': 0.0016663371352478862, 'val_mse': 0.001297100679948926, 'val_l1': 0.0018245814135298133, 'val_psnr': 28.870229721069336}\n",
            "{'epoch': 121, 'time_s': 0.5172843933105469, 'loss': 0.0008602843299740925, 'mse': 7.695658860029653e-05, 'l1': 0.0011959962430410087, 'psnr': 41.13697814941406, 'val_loss': 0.0018476885743439198, 'val_mse': 0.001476017409004271, 'val_l1': 0.00200697616674006, 'val_psnr': 28.309057235717773}\n",
            "{'epoch': 122, 'time_s': 0.516150712966919, 'loss': 0.0005409634250099771, 'mse': 3.553697160896263e-05, 'l1': 0.0007575747949886136, 'psnr': 44.491973876953125, 'val_loss': 0.0021046590991318226, 'val_mse': 0.0017281509935855865, 'val_l1': 0.0022660198155790567, 'val_psnr': 27.62415885925293}\n",
            "{'epoch': 123, 'time_s': 0.5163531303405762, 'loss': 0.0005512282878044061, 'mse': 3.8671282254654216e-05, 'l1': 0.0007708955963607877, 'psnr': 44.1249885559082, 'val_loss': 0.0020661847665905952, 'val_mse': 0.0017009979346767068, 'val_l1': 0.0022226932924240828, 'val_psnr': 27.692935943603516}\n",
            "{'epoch': 124, 'time_s': 0.5237987041473389, 'loss': 0.00046236116759246215, 'mse': 2.6557388991932385e-05, 'l1': 0.0006491342355730012, 'psnr': 45.75651168823242, 'val_loss': 0.0019723703153431416, 'val_mse': 0.001612582360394299, 'val_l1': 0.0021265652030706406, 'val_psnr': 27.924755096435547}\n",
            "{'epoch': 125, 'time_s': 0.6219336986541748, 'loss': 0.0004650682531064376, 'mse': 3.056374816878815e-05, 'l1': 0.000651284477498848, 'psnr': 45.146514892578125, 'val_loss': 0.0019400883466005325, 'val_mse': 0.001580693875439465, 'val_l1': 0.002094114664942026, 'val_psnr': 28.011493682861328}\n",
            "{'epoch': 126, 'time_s': 0.5401387214660645, 'loss': 0.00037528139364439994, 'mse': 2.5310249611720792e-05, 'l1': 0.0005252690461929888, 'psnr': 45.96531677246094, 'val_loss': 0.0016350389923900366, 'val_mse': 0.001304257777519524, 'val_l1': 0.0017768023535609245, 'val_psnr': 28.846332550048828}\n",
            "{'epoch': 127, 'time_s': 0.5198602676391602, 'loss': 0.000468468035251135, 'mse': 3.070533125537622e-05, 'l1': 0.0006560806468769442, 'psnr': 45.12644958496094, 'val_loss': 0.0016016600420698524, 'val_mse': 0.0012789369793608785, 'val_l1': 0.0017399699427187443, 'val_psnr': 28.931474685668945}\n",
            "{'epoch': 128, 'time_s': 0.5146613121032715, 'loss': 0.0008671780888107605, 'mse': 9.611476980353473e-05, 'l1': 0.0011976337991654873, 'psnr': 40.17164611816406, 'val_loss': 0.001581505173817277, 'val_mse': 0.0012572403065860271, 'val_l1': 0.0017204757314175367, 'val_psnr': 29.005783081054688}\n",
            "{'epoch': 129, 'time_s': 0.5192816257476807, 'loss': 0.0005528452966245823, 'mse': 4.434485890669748e-05, 'l1': 0.0007707740733167157, 'psnr': 43.53058624267578, 'val_loss': 0.0015484464820474386, 'val_mse': 0.0012283892137929797, 'val_l1': 0.001685613882727921, 'val_psnr': 29.106605529785156}\n",
            "{'epoch': 130, 'time_s': 0.5208098888397217, 'loss': 0.0005804817628813908, 'mse': 4.653519272324047e-05, 'l1': 0.000809316014056094, 'psnr': 43.321250915527344, 'val_loss': 0.0015344943385571241, 'val_mse': 0.0012172607239335775, 'val_l1': 0.0016704516019672155, 'val_psnr': 29.146127700805664}\n",
            "{'epoch': 131, 'time_s': 0.500906229019165, 'loss': 0.000549318123375997, 'mse': 3.085738671870786e-05, 'l1': 0.0007715155879850499, 'psnr': 45.10499954223633, 'val_loss': 0.001535235671326518, 'val_mse': 0.0012197205796837807, 'val_l1': 0.0016704564914107323, 'val_psnr': 29.137361526489258}\n",
            "{'epoch': 132, 'time_s': 0.6131207942962646, 'loss': 0.00039946923789102584, 'mse': 2.382326692895731e-05, 'l1': 0.0005604603647952899, 'psnr': 46.22816467285156, 'val_loss': 0.0015731384046375751, 'val_mse': 0.001251793815754354, 'val_l1': 0.0017108574975281954, 'val_psnr': 29.02463722229004}\n",
            "{'epoch': 133, 'time_s': 0.7345843315124512, 'loss': 0.0005492656673595775, 'mse': 3.718494735949207e-05, 'l1': 0.000768728852563072, 'psnr': 44.29515838623047, 'val_loss': 0.0015817061066627502, 'val_mse': 0.0012516950955614448, 'val_l1': 0.001723139313980937, 'val_psnr': 29.024980545043945}\n",
            "{'epoch': 134, 'time_s': 0.6919765472412109, 'loss': 0.00035375362131162547, 'mse': 1.665000058892474e-05, 'l1': 0.000498226610943675, 'psnr': 47.78324890136719, 'val_loss': 0.001569444197230041, 'val_mse': 0.0012423708103597164, 'val_l1': 0.0017096186056733131, 'val_psnr': 29.057453155517578}\n",
            "{'epoch': 135, 'time_s': 0.7143566608428955, 'loss': 0.0004856842788285576, 'mse': 2.272128017466457e-05, 'l1': 0.0006840970017947257, 'psnr': 46.43375778198242, 'val_loss': 0.0015621299389749765, 'val_mse': 0.0012417251709848642, 'val_l1': 0.0016994462348520756, 'val_psnr': 29.059711456298828}\n",
            "{'epoch': 136, 'time_s': 0.6214454174041748, 'loss': 0.0004053654092786019, 'mse': 1.9491185000219957e-05, 'l1': 0.0005707400669052731, 'psnr': 47.099388122558594, 'val_loss': 0.0015521352179348469, 'val_mse': 0.0012320096138864756, 'val_l1': 0.0016893318388611078, 'val_psnr': 29.093822479248047}\n",
            "{'epoch': 137, 'time_s': 0.519707441329956, 'loss': 0.0002829177465173416, 'mse': 1.0702338954615698e-05, 'l1': 0.00039958148590812925, 'psnr': 49.70115661621094, 'val_loss': 0.0015624682419002056, 'val_mse': 0.0012424917658790946, 'val_l1': 0.0016996009508147836, 'val_psnr': 29.057029724121094}\n",
            "{'epoch': 138, 'time_s': 0.6193981170654297, 'loss': 0.00036249732875148766, 'mse': 1.4281445487540623e-05, 'l1': 0.000511732701852452, 'psnr': 48.449241638183594, 'val_loss': 0.0015418920665979385, 'val_mse': 0.0012289835140109062, 'val_l1': 0.0016759957652539015, 'val_psnr': 29.104503631591797}\n",
            "{'epoch': 139, 'time_s': 0.5215239524841309, 'loss': 0.00041111513928626664, 'mse': 1.6633614905003924e-05, 'l1': 0.0005801786537631415, 'psnr': 47.78752136230469, 'val_loss': 0.0015256545739248395, 'val_mse': 0.0012184613151475787, 'val_l1': 0.0016573088942095637, 'val_psnr': 29.141845703125}\n",
            "{'epoch': 140, 'time_s': 0.5208940505981445, 'loss': 0.0005248771049082279, 'mse': 2.1665788864311253e-05, 'l1': 0.000740539104299387, 'psnr': 46.64025115966797, 'val_loss': 0.0014809583080932498, 'val_mse': 0.0011792519362643361, 'val_l1': 0.0016102611552923918, 'val_psnr': 29.283897399902344}\n",
            "{'epoch': 141, 'time_s': 0.5170724391937256, 'loss': 0.0003353705360495951, 'mse': 1.643580981181003e-05, 'l1': 0.0004720568540506065, 'psnr': 47.839447021484375, 'val_loss': 0.0014770954148843884, 'val_mse': 0.0011759765911847353, 'val_l1': 0.0016061462229117751, 'val_psnr': 29.295976638793945}\n",
            "{'epoch': 142, 'time_s': 0.5205838680267334, 'loss': 0.0004073255013281596, 'mse': 2.373248139520001e-05, 'l1': 0.0005717225121770753, 'psnr': 46.2447395324707, 'val_loss': 0.0015153196873143315, 'val_mse': 0.0012078034924343228, 'val_l1': 0.0016471123090013862, 'val_psnr': 29.180002212524414}\n",
            "{'epoch': 143, 'time_s': 0.5181474685668945, 'loss': 0.0003265179657319095, 'mse': 1.9411324046814116e-05, 'l1': 0.00045813510951120406, 'psnr': 47.117210388183594, 'val_loss': 0.0015702169621363282, 'val_mse': 0.0012538221199065447, 'val_l1': 0.001705814735032618, 'val_psnr': 29.01760482788086}\n",
            "{'epoch': 144, 'time_s': 0.5111310482025146, 'loss': 0.0004022576758870855, 'mse': 1.8648264813236892e-05, 'l1': 0.0005666617216775194, 'psnr': 47.291290283203125, 'val_loss': 0.0015372585039585829, 'val_mse': 0.001230095629580319, 'val_l1': 0.0016688997857272625, 'val_psnr': 29.100574493408203}\n",
            "{'epoch': 145, 'time_s': 0.5171780586242676, 'loss': 0.0003580342308850959, 'mse': 1.2180847079434898e-05, 'l1': 0.0005062571071903221, 'psnr': 49.13966369628906, 'val_loss': 0.0014756305608898401, 'val_mse': 0.0011813710443675518, 'val_l1': 0.0016017417656257749, 'val_psnr': 29.276100158691406}\n",
            "{'epoch': 146, 'time_s': 0.5283732414245605, 'loss': 0.00037658198925782926, 'mse': 1.3981971903831436e-05, 'l1': 0.0005319820047589019, 'psnr': 48.54121398925781, 'val_loss': 0.0014273365959525108, 'val_mse': 0.0011406458215788007, 'val_l1': 0.0015502041205763817, 'val_psnr': 29.42845344543457}\n",
            "{'epoch': 147, 'time_s': 0.5118510723114014, 'loss': 0.0002879832300095586, 'mse': 1.1069933862017933e-05, 'l1': 0.0004066603560204385, 'psnr': 49.554630279541016, 'val_loss': 0.0014142594300210476, 'val_mse': 0.0011304942891001701, 'val_l1': 0.0015358730452135205, 'val_psnr': 29.46727752685547}\n",
            "{'epoch': 148, 'time_s': 0.5564768314361572, 'loss': 0.00024889412998163607, 'mse': 7.687466485606365e-06, 'l1': 0.0003522684201016091, 'psnr': 51.13652038574219, 'val_loss': 0.0014157419791445136, 'val_mse': 0.001134826336055994, 'val_l1': 0.0015361345140263438, 'val_psnr': 29.450666427612305}\n",
            "{'epoch': 149, 'time_s': 0.5112459659576416, 'loss': 0.0005435859839053592, 'mse': 3.30989951180527e-05, 'l1': 0.0007623661222169176, 'psnr': 44.800537109375, 'val_loss': 0.0014121739659458399, 'val_mse': 0.001132890465669334, 'val_l1': 0.001531866961158812, 'val_psnr': 29.45808219909668}\n",
            "{'epoch': 150, 'time_s': 0.6212203502655029, 'loss': 0.00030798093939665705, 'mse': 1.0628098721099377e-05, 'l1': 0.0004354178599896841, 'psnr': 49.731361389160156, 'val_loss': 0.0014002206735312939, 'val_mse': 0.001123217400163412, 'val_l1': 0.0015189364785328507, 'val_psnr': 29.495323181152344}\n"
          ]
        },
        {
          "output_type": "display_data",
          "data": {
            "text/plain": [
              "<Figure size 1200x600 with 15 Axes>"
            ],
            "image/png": "[encoded data removed]"
          },
          "metadata": {}
        },
        {
          "output_type": "stream",
          "name": "stdout",
          "text": [
            "Best checkpoint saved at: /content/cond_unet_film.pt\n"
          ]
        }
      ]
    },
    {
      "cell_type": "code",
      "source": [
        "from PIL import Image\n",
        "import torch\n",
        "\n",
        "test_img_path = \"/content/nanogon.jpeg\"\n",
        "color_name = \"magenta\"\n",
        "ckpt_path = \"/content/cond_unet_film.pt\"\n",
        "ckpt = torch.load(ckpt_path, map_location=device)\n",
        "color_to_idx = ckpt[\"color_to_idx\"]\n",
        "idx_to_color = ckpt[\"idx_to_color\"]\n",
        "color_to_rgb = ckpt[\"color_to_rgb\"]\n",
        "hparams = ckpt[\"hparams\"]\n",
        "\n",
        "\n",
        "model = UNetCond(\n",
        "    in_ch=3, out_ch=3, base_ch=hparams[\"base_ch\"],\n",
        "    cond_method=hparams[\"cond_method\"], num_colors=len(color_to_idx), cond_dim=32\n",
        ").to(device)\n",
        "model.load_state_dict(ckpt[\"model\"])\n",
        "model.eval()\n",
        "\n",
        "\n",
        "def to_rgb(im):\n",
        "    im = im.convert(\"RGBA\")\n",
        "    bg = Image.new(\"RGBA\", im.size, (255,255,255,255))\n",
        "    comp = Image.alpha_composite(bg, im)\n",
        "    return comp.convert(\"RGB\")\n",
        "\n",
        "test_img = to_rgb(Image.open(test_img_path))\n",
        "test_img = test_img.resize((hparams[\"out_size\"], hparams[\"out_size\"]), Image.BILINEAR)\n",
        "x = transforms.ToTensor()(test_img).unsqueeze(0).to(device)\n",
        "\n",
        "assert color_name in color_to_idx, f\"Unknown color '{color_name}'. Available: {list(color_to_idx.keys())}\"\n",
        "cidx = torch.tensor([color_to_idx[color_name]], dtype=torch.long, device=device)\n",
        "crgb = torch.tensor([[c / 255.0 for c in color_to_rgb[color_name]]], dtype=torch.float32, device=device)\n",
        "\n",
        "with torch.no_grad():\n",
        "    y = model(x, cidx, crgb)\n",
        "    y_img = (y.squeeze(0).cpu().clamp(0, 1).numpy().transpose(1, 2, 0))\n",
        "    out_img = Image.fromarray((y_img * 255).astype('uint8'))\n",
        "\n",
        "import matplotlib.pyplot as plt\n",
        "plt.figure(figsize=(8,4))\n",
        "plt.subplot(1,2,1)\n",
        "plt.imshow(test_img)\n",
        "plt.title(\"Input Outline\")\n",
        "plt.axis(\"off\")\n",
        "plt.subplot(1,2,2)\n",
        "plt.imshow(out_img)\n",
        "plt.title(f\"Filled: {color_name}\")\n",
        "plt.axis(\"off\")\n",
        "plt.show()\n"
      ],
      "metadata": {
        "colab": {
          "base_uri": "https://localhost:8080/",
          "height": 341
        },
        "id": "biARZMaAnZqV",
        "outputId": "85383f33-7546-4a5b-f06f-1a42ad58a28b"
      },
      "execution_count": 9,
      "outputs": [
        {
          "output_type": "display_data",
          "data": {
            "text/plain": [
              "<Figure size 800x400 with 2 Axes>"
            ],
            "image/png": "[encoded data removed]"
          },
          "metadata": {}
        }
      ]
    }
  ]
}